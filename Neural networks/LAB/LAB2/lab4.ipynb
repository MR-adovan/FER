{
  "cells": [
    {
      "cell_type": "markdown",
      "metadata": {
        "id": "5PrS_gyDweCc"
      },
      "source": [
        "# Exercise 4: LMS algorithm for stock price prediction\n",
        "\n",
        "## 4.1 Introduction\n",
        "\n",
        "In this exercise the *trainlms* function given below will be used.\n",
        "\n",
        "**Tasks**\n",
        "\n",
        "1. What does the function *trainlms* do?\n",
        "\n",
        "**Answer**\n",
        "\n",
        "1. Function *trainlms* optimizes weights to have LMS error as small as possible?"
      ]
    },
    {
      "cell_type": "code",
      "execution_count": null,
      "metadata": {
        "collapsed": true,
        "id": "pV3JaOJvweCg"
      },
      "outputs": [],
      "source": [
        "import numpy as np\n",
        "\n",
        "def predict(W, A):\n",
        "    return W@np.vstack([-np.ones((1, A.shape[1])), A])\n",
        "\n",
        "def trainlms(ni, x, d, W, max_epoch):\n",
        "    w=W.copy()\n",
        "    \n",
        "    n=0\n",
        "    errors=[]\n",
        "    while (n<max_epoch):\n",
        "        n+=1\n",
        "        y=predict(w, x)\n",
        "        e=d-y\n",
        "        w+=ni*e@np.vstack([-np.ones((1, x.shape[1])), x]).T\n",
        "        error=np.sum(np.square(e))\n",
        "        errors.append(error)\n",
        "        if (error<0.02):\n",
        "            break\n",
        "    return w, errors"
      ]
    },
    {
      "cell_type": "markdown",
      "metadata": {
        "id": "QkdDTLSpweCh"
      },
      "source": [
        "## 4.2 Stock price movement\n",
        "\n",
        "In this experiment we will use the LMS algorithm in order to predict the stock price for a given stock. Load the data from file *stock.txt* into variable *data*. Numbers (elements of vector *data*) show the movement of average daily price of the given share in time. Plot the variable *data* using the following commands:"
      ]
    },
    {
      "cell_type": "code",
      "execution_count": null,
      "metadata": {
        "id": "ksvQwGNMweCk"
      },
      "outputs": [],
      "source": [
        "data=np.loadtxt(\"sample_data/stocks.txt\", delimiter=\",\")\n",
        "\n",
        "import matplotlib.pyplot as plt\n",
        "plt.plot(range(1, data.shape[0]+1), data)\n",
        "plt.show()"
      ]
    },
    {
      "cell_type": "markdown",
      "metadata": {
        "id": "vEKcGdD6weCk"
      },
      "source": [
        "The goal of this exercise is to use several (let us say $N$) previous share prices in order to predict the share price for today. This is useful because we can buy or sell the price before its price rises or falls and in that way increase our profit or lower our loss. The first step is to find the input-output pairs, which will be used on order to train our network. The size of this set will be defined using variable $i$. Our inputs will be vectors $\\mathbf{a}_i$, which we put in matrix $\\mathbf{A}$. Outputs are scalar values, which we put in vector $y$.\n",
        "\n",
        "**Tasks**\n",
        "\n",
        "1. Write the function *memory*, which for given day in the year (index of the variable *data*) constructs a column vector $\\mathbf{a}$ whose elements represent the prices for last *N* days but without the price for today.\n",
        "2. Using the function *memory *write a function *memorize*, which for given inputs (*data*, *day*, *N*, *i*) constructs the matrix $\\mathbf{A}$ in which each column vector represents the $\\mathbf{a}_i$ for the previous day. So, matrix $\\mathbf{A}$ memorizes $i$ memories which we will use in order to train our network."
      ]
    },
    {
      "cell_type": "code",
      "execution_count": null,
      "metadata": {
        "id": "GkaxLmnPweCl"
      },
      "outputs": [],
      "source": [
        "# WRITE YOUR CODE HERE\n",
        "def memory(data, day, N):\n",
        "  return np.array([data[day-N-1:day-1]], dtype=np.float64).T\n",
        "\n",
        "def memorize(data, day, N, i):\n",
        "  if day < i + N - 1:\n",
        "    print(\"day < i + N - 1\")\n",
        "  A = memory(data,day,N)\n",
        "  for j in range(1,i):\n",
        "    A = np.hstack((A,memory(data,day-j,N)))\n",
        "  return A"
      ]
    },
    {
      "cell_type": "code",
      "execution_count": null,
      "metadata": {
        "id": "gDIlDWc0weCn"
      },
      "outputs": [],
      "source": [
        "day=151\n",
        "N=70\n",
        "i=50\n",
        "A=memorize(data, day, N, i)"
      ]
    },
    {
      "cell_type": "markdown",
      "metadata": {
        "id": "CgOD9_zEweCm"
      },
      "source": [
        "Construct the matrix $\\mathbf{A}$ using the command:"
      ]
    },
    {
      "cell_type": "markdown",
      "metadata": {
        "id": "HN6Kc175weCo"
      },
      "source": [
        "The output vector is constructed using the command:"
      ]
    },
    {
      "cell_type": "code",
      "execution_count": null,
      "metadata": {
        "id": "dYQ8JdCiweCp"
      },
      "outputs": [],
      "source": [
        "y=np.array([data[day-i+1:day+1]])"
      ]
    },
    {
      "cell_type": "markdown",
      "metadata": {
        "id": "PI50glfXweCp"
      },
      "source": [
        "We initialize the perceptron as follows:"
      ]
    },
    {
      "cell_type": "code",
      "execution_count": null,
      "metadata": {
        "collapsed": true,
        "id": "JrUTjlrEweCp"
      },
      "outputs": [],
      "source": [
        "def initp(data, labels):\n",
        "    return -0.5+np.random.rand(labels.shape[0], data.shape[0]+1)\n",
        "\n",
        "W=initp(A, y)"
      ]
    },
    {
      "cell_type": "markdown",
      "metadata": {
        "id": "D7TDBBp7weCq"
      },
      "source": [
        "We train the perceptron using the command:"
      ]
    },
    {
      "cell_type": "code",
      "execution_count": null,
      "metadata": {
        "id": "4_PNL62_weCq"
      },
      "outputs": [],
      "source": [
        "ni=1e-8\n",
        "max_num_iter=10000\n",
        "\n",
        "W1, errors=trainlms(ni, A, y, W, max_num_iter)"
      ]
    },
    {
      "cell_type": "markdown",
      "metadata": {
        "id": "c-HRcYmAweCq"
      },
      "source": [
        "Weights of the network are memorized in the matrix $\\mathbf{W}_1$. Variable *ni* should be experimentally found. Train the network for different values of *i*, *N*, *max_num_iter*. We can visualize the output of the network on the training data using the following command:"
      ]
    },
    {
      "cell_type": "code",
      "execution_count": null,
      "metadata": {
        "id": "79rEbBMfweCr"
      },
      "outputs": [],
      "source": [
        "p=predict(W1, A)\n",
        "plt.plot(range(1, y[0].shape[0]+1), y[0])\n",
        "plt.plot(range(1, p[0].shape[0]+1), p[0], c=\"red\")\n",
        "plt.show()"
      ]
    },
    {
      "cell_type": "code",
      "execution_count": null,
      "metadata": {
        "collapsed": true,
        "id": "vmei6VUaweCr"
      },
      "outputs": [],
      "source": [
        "# WRITE YOUR CODE HERE\n",
        "day=201\n",
        "ni=0.6e-8\n",
        "max_num_iter=10000\n",
        "i_s = [100, 30, 50]\n",
        "N_s = [80, 20]\n",
        "Weights = []\n",
        "table = [[\"i\" , \"N\", \"iterations\", \"profit\"]]\n",
        "for i in i_s:\n",
        "  for N in N_s:\n",
        "    table.append([i,N,max_num_iter])\n",
        "    A=memorize(data, day, N, i)\n",
        "    y=np.array([data[day-i+1:day+1]], dtype=np.float64)\n",
        "    W=initp(A, y)\n",
        "    W1, errors=trainlms(ni, A, y, W, max_num_iter)\n",
        "    Weights.append(W1)\n",
        "    p=predict(W1, A)\n",
        "    plt.plot(range(1, y[0].shape[0]+1), y[0], label = \"Real values\")\n",
        "    plt.plot(range(1, p[0].shape[0]+1), p[0], c=\"red\", label= \"Predicted\")\n",
        "    plt.legend(loc=\"best\")\n",
        "    plt.title(\"$i$ = \" + str(i) + \", $N$ = \" + str(N) + \", $iterations$ = \" + str(max_num_iter))\n",
        "    plt.show()"
      ]
    },
    {
      "cell_type": "markdown",
      "metadata": {
        "id": "xVlXaMiWweCr"
      },
      "source": [
        "Here, the blue color shows the predicted values and the red color shows the real outputs.\n",
        "\n",
        "**Tasks**\n",
        "\n",
        "1. Memorize different weight matrices ($\\mathbf{W}_1$, $\\mathbf{W}_2$...) with different combinations of following parameters *i*=30, 50 or 100; *N*=20, 50 or 80; *max_num_iter*=10000, 50000 or 500000. (Choose 6 different combinations.) For selected parameter combinations show the obtained predictions with real values. Comment the obtained results."
      ]
    },
    {
      "cell_type": "markdown",
      "metadata": {
        "id": "42MT_gkOweCs"
      },
      "source": [
        "If we do not use any intelligence for stock price prediction and we assume the price will be (almost) the same tomorrow, the error we make is:"
      ]
    },
    {
      "cell_type": "code",
      "execution_count": null,
      "metadata": {
        "id": "r12TiSlFweCs"
      },
      "outputs": [],
      "source": [
        "a=data[day:day+1]          # price today - we assume the same price tomorrow\n",
        "y=data[day+1:day+2]        # the real price tomorrow\n",
        "err_oo=np.sum(np.abs(y-a)) # error"
      ]
    },
    {
      "cell_type": "markdown",
      "metadata": {
        "id": "JLmSr2uaweCs"
      },
      "source": [
        "If we use the network trained on previous days to predict the price for tomorrow, the error is as follows:"
      ]
    },
    {
      "cell_type": "code",
      "execution_count": null,
      "metadata": {
        "id": "orDXMM2dweCs"
      },
      "outputs": [],
      "source": [
        "p=predict(W1, memorize(data, day+1, N, 1))\n",
        "err_nn=np.sum(np.abs(y-p))"
      ]
    },
    {
      "cell_type": "markdown",
      "metadata": {
        "id": "uwqbS00qweCs"
      },
      "source": [
        "If we trade each day with the given stock, our error can be easily measured. Our potential profit can be calculated as follows:"
      ]
    },
    {
      "cell_type": "code",
      "execution_count": null,
      "metadata": {
        "id": "9hdUClO5weCt"
      },
      "outputs": [],
      "source": [
        "profit=err_oo-err_nn\n",
        "print(profit)"
      ]
    },
    {
      "cell_type": "markdown",
      "metadata": {
        "id": "NGXxGeqsweCt"
      },
      "source": [
        "To predict the price of the day after tomorrow, we could use the same network or we could train the network from scratch by also using the data of the day before the day after tomorrow i.e. by using the data of tomorrow. Which way would be better?\n",
        "\n",
        "**Tasks**\n",
        "\n",
        "1. Create a table in which you will show the obtained profit levels depending on the parameters used (*i*, *N*, and *max_num_iter*). For of these parameter triplets the profit should be the sum of the profit for every possible *day* for which training data defined by *i* and *N* exists."
      ]
    },
    {
      "cell_type": "code",
      "source": [
        "from tabulate import tabulate"
      ],
      "metadata": {
        "id": "oYt5jJyshiF4"
      },
      "execution_count": null,
      "outputs": []
    },
    {
      "cell_type": "code",
      "execution_count": null,
      "metadata": {
        "collapsed": true,
        "id": "0jDzmlI3weCt"
      },
      "outputs": [],
      "source": [
        "# WRITE YOUR CODE HERE\n",
        "table = [[\"i\" , \"N\", \"iterations\", \"profit\"]]\n",
        "iter = 0\n",
        "for idx,i in enumerate(i_s):\n",
        "  for jdx,N in enumerate(N_s):\n",
        "    profit = 0\n",
        "    for j in range(0,i):\n",
        "      a=data[day-j-2:day-j-1]          # price today - we assume the same price tomorrow\n",
        "      y=data[day-j-1:day-j]        # the real price tomorrow\n",
        "      err_oo=np.sum(np.abs(y-a))\n",
        "      p=predict(Weights[iter], memorize(data, day-j+1, N, 1))\n",
        "      err_nn=np.sum(np.abs(y-p))\n",
        "\n",
        "      profit += err_oo-err_nn\n",
        "\n",
        "    table.append([i,N,max_num_iter,profit])\n",
        "    iter += 1  \n",
        "\n",
        "print(tabulate(table, headers='firstrow'))"
      ]
    }
  ],
  "metadata": {
    "kernelspec": {
      "display_name": "Python 3",
      "language": "python",
      "name": "python3"
    },
    "language_info": {
      "codemirror_mode": {
        "name": "ipython",
        "version": 3
      },
      "file_extension": ".py",
      "mimetype": "text/x-python",
      "name": "python",
      "nbconvert_exporter": "python",
      "pygments_lexer": "ipython3",
      "version": "3.6.1"
    },
    "colab": {
      "provenance": [],
      "collapsed_sections": []
    }
  },
  "nbformat": 4,
  "nbformat_minor": 0
}